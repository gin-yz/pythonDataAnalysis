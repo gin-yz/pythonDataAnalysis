{
 "cells": [
  {
   "cell_type": "code",
   "execution_count": 1,
   "metadata": {
    "collapsed": true
   },
   "outputs": [],
   "source": [
    "import numpy as np"
   ]
  },
  {
   "cell_type": "code",
   "execution_count": 15,
   "outputs": [
    {
     "data": {
      "text/plain": "array([ 5,  7,  9, 11, 13])"
     },
     "execution_count": 15,
     "metadata": {},
     "output_type": "execute_result"
    }
   ],
   "source": [
    "arr = np.arange(10).reshape(2,5)\n",
    "np.add.reduce(arr)"
   ],
   "metadata": {
    "collapsed": false,
    "pycharm": {
     "name": "#%%\n"
    }
   }
  },
  {
   "cell_type": "code",
   "execution_count": 16,
   "outputs": [
    {
     "data": {
      "text/plain": "array([[-0.30123811, -1.26329624,  0.43035633, -2.75518706],\n       [ 1.04306431, -0.94036898, -0.40047701,  1.57571607],\n       [ 1.16511793, -0.66908596,  1.26565461, -0.24286242],\n       [-2.04484475,  0.06133436,  1.01413701,  0.00410759],\n       [ 0.43137441, -0.23686788, -0.84180627,  0.64188465]])"
     },
     "execution_count": 16,
     "metadata": {},
     "output_type": "execute_result"
    }
   ],
   "source": [
    "arr2 = np.random.randn(5,5)\n",
    "arr2[:,1:]"
   ],
   "metadata": {
    "collapsed": false,
    "pycharm": {
     "name": "#%%\n"
    }
   }
  },
  {
   "cell_type": "code",
   "execution_count": 21,
   "outputs": [
    {
     "data": {
      "text/plain": "(5,)"
     },
     "execution_count": 21,
     "metadata": {},
     "output_type": "execute_result"
    }
   ],
   "source": [
    "arr3 = np.arange(3).repeat([1,2,2])"
   ],
   "metadata": {
    "collapsed": false,
    "pycharm": {
     "name": "#%%\n"
    }
   }
  },
  {
   "cell_type": "code",
   "execution_count": 22,
   "outputs": [
    {
     "data": {
      "text/plain": "array([[0, 0, 0, 0, 0],\n       [0, 1, 2, 3, 4],\n       [0, 1, 2, 3, 4],\n       [0, 2, 4, 6, 8],\n       [0, 2, 4, 6, 8]])"
     },
     "execution_count": 22,
     "metadata": {},
     "output_type": "execute_result"
    }
   ],
   "source": [
    "np.multiply.outer(arr3,np.arange(5))"
   ],
   "metadata": {
    "collapsed": false,
    "pycharm": {
     "name": "#%%\n"
    }
   }
  },
  {
   "cell_type": "code",
   "execution_count": 27,
   "outputs": [],
   "source": [
    "result = np.subtract.outer(np.arange(12).reshape(3,4),np.arange(5))"
   ],
   "metadata": {
    "collapsed": false,
    "pycharm": {
     "name": "#%%\n"
    }
   }
  },
  {
   "cell_type": "code",
   "execution_count": 29,
   "outputs": [
    {
     "data": {
      "text/plain": "array([0, 2, 4, 6, 8, 10, 12, 14], dtype=object)"
     },
     "execution_count": 29,
     "metadata": {},
     "output_type": "execute_result"
    }
   ],
   "source": [
    "def add_elements(x,y):\n",
    "    return x+y\n",
    "\n",
    "add_them = np.frompyfunc(add_elements,2,1)\n",
    "\n",
    "add_them(np.arange(8),np.arange(8))"
   ],
   "metadata": {
    "collapsed": false,
    "pycharm": {
     "name": "#%%\n"
    }
   }
  },
  {
   "cell_type": "code",
   "execution_count": 32,
   "outputs": [
    {
     "data": {
      "text/plain": "array([(1.5, 2), (2.5, 3)], dtype=[('x', '<f8'), ('y', '<i8')])"
     },
     "execution_count": 32,
     "metadata": {},
     "output_type": "execute_result"
    }
   ],
   "source": [
    "selfStructType = [('x',np.float),('y',np.int)]\n",
    "selfArr = np.array([(1.5,2),(2.5,3)],dtype=selfStructType)\n",
    "selfArr"
   ],
   "metadata": {
    "collapsed": false,
    "pycharm": {
     "name": "#%%\n"
    }
   }
  },
  {
   "cell_type": "code",
   "execution_count": 35,
   "outputs": [
    {
     "data": {
      "text/plain": "array([([0., 0.], 0), ([0., 0.], 0), ([0., 0.], 0), ([0., 0.], 0)],\n      dtype=[('x', '<f8', (2,)), ('y', '<i8')])"
     },
     "execution_count": 35,
     "metadata": {},
     "output_type": "execute_result"
    }
   ],
   "source": [
    "selfStructType2 = [('x',np.float,2),('y',np.int)]\n",
    "selfArr2 = np.zeros(4,dtype=selfStructType2)\n",
    "selfArr2"
   ],
   "metadata": {
    "collapsed": false,
    "pycharm": {
     "name": "#%%\n"
    }
   }
  },
  {
   "cell_type": "code",
   "execution_count": 41,
   "outputs": [
    {
     "data": {
      "text/plain": "1.1"
     },
     "execution_count": 41,
     "metadata": {},
     "output_type": "execute_result"
    }
   ],
   "source": [
    "#嵌套dtype\n",
    "selfStructType3 = [('x',[('a',np.float),('b',np.int)]),('y',np.int)]\n",
    "selfArr3 = np.array([((1.1,2),5),((2.2,3),6)],dtype=selfStructType3)\n",
    "selfArr3[0]['x']['a']"
   ],
   "metadata": {
    "collapsed": false,
    "pycharm": {
     "name": "#%%\n"
    }
   }
  },
  {
   "cell_type": "code",
   "execution_count": 44,
   "outputs": [
    {
     "data": {
      "text/plain": "array([ 0,  4,  8, 12])"
     },
     "execution_count": 44,
     "metadata": {},
     "output_type": "execute_result"
    }
   ],
   "source": [
    "arr4 = np.arange(16).reshape(4,4)\n",
    "np.sort(arr4[:,0])"
   ],
   "metadata": {
    "collapsed": false,
    "pycharm": {
     "name": "#%%\n"
    }
   }
  },
  {
   "cell_type": "code",
   "execution_count": 46,
   "outputs": [
    {
     "data": {
      "text/plain": "array([[-3.08770135e-01,  3.64855903e-04,  2.01781694e-01,\n         9.71826109e-01,  1.55646276e+00],\n       [ 6.85944215e-01,  8.13950287e-01, -2.86050003e-01,\n        -1.82920314e+00,  1.10939526e+00],\n       [ 2.04835288e-01, -4.18491179e-01,  1.13108880e+00,\n        -2.73083917e-01, -5.91651414e-01]])"
     },
     "execution_count": 46,
     "metadata": {},
     "output_type": "execute_result"
    }
   ],
   "source": [
    "arr5 = np.random.randn(3,5)\n",
    "arr5[:,arr5[0].argsort()]"
   ],
   "metadata": {
    "collapsed": false,
    "pycharm": {
     "name": "#%%\n"
    }
   }
  },
  {
   "cell_type": "code",
   "execution_count": 53,
   "outputs": [
    {
     "data": {
      "text/plain": "array([[  0.,   0.,   0.,   0.],\n       [  4.,   0.,   0.,  -4.],\n       [  0.,   0.,   0., -16.],\n       [  0.,   0.,   0.,   0.]])"
     },
     "execution_count": 53,
     "metadata": {},
     "output_type": "execute_result"
    }
   ],
   "source": [
    "arr6 = np.array([0,1,7,12,15])\n",
    "arr6.searchsorted([0,1,3])"
   ],
   "metadata": {
    "collapsed": false,
    "pycharm": {
     "name": "#%%\n"
    }
   }
  }
 ],
 "metadata": {
  "kernelspec": {
   "display_name": "Python 3",
   "language": "python",
   "name": "python3"
  },
  "language_info": {
   "codemirror_mode": {
    "name": "ipython",
    "version": 2
   },
   "file_extension": ".py",
   "mimetype": "text/x-python",
   "name": "python",
   "nbconvert_exporter": "python",
   "pygments_lexer": "ipython2",
   "version": "2.7.6"
  }
 },
 "nbformat": 4,
 "nbformat_minor": 0
}